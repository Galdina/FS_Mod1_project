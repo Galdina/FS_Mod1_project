{
 "cells": [
  {
   "cell_type": "markdown",
   "metadata": {},
   "source": [
    "# Reading information from files"
   ]
  },
  {
   "cell_type": "markdown",
   "metadata": {},
   "source": [
    "I use os and glob library for work with path and directories, where we put our files. "
   ]
  },
  {
   "cell_type": "code",
   "execution_count": 38,
   "metadata": {},
   "outputs": [],
   "source": [
    "import os # for work with path/dir\n",
    "import sqlite3\n",
    "import pandas as pd\n",
    "from glob import glob"
   ]
  },
  {
   "cell_type": "code",
   "execution_count": 31,
   "metadata": {},
   "outputs": [],
   "source": [
    "# os library helps us with cleaning filenames from dots\n",
    "for filename in csv_files:\n",
    "    filename_cleaned = os.path.basename(filename).replace(\".csv\", \"\").replace(\".\", \"_\") # cleaning the filenames\n"
   ]
  },
  {
   "cell_type": "code",
   "execution_count": 32,
   "metadata": {},
   "outputs": [
    {
     "name": "stdout",
     "output_type": "stream",
     "text": [
      "Files for project: \n",
      "./data/tmdb.movies.csv\n",
      "./data/imdb.title.crew.csv\n",
      "./data/tn.movie_budgets.csv\n",
      "./data/imdb.title.ratings.csv\n",
      "./data/imdb.name.basics.csv\n",
      "./data/imdb.title.principals.csv\n",
      "./data/imdb.title.akas.csv\n",
      "./data/bom.movie_gross.csv\n",
      "./data/imdb.title.basics.csv\n",
      "./data/rt.reviews.tsv\n",
      "./data/rt.movie_info.tsv\n"
     ]
    }
   ],
   "source": [
    "# use glob to get all of the csv files\n",
    "csv_files = glob(\"./data/*.csv\")\n",
    "tsv_files = glob(\"./data/*.tsv\")\n",
    "\n",
    "# check what we have \n",
    "print(\"Files for project: \")\n",
    "for file in csv_files:\n",
    "    print(file)\n",
    "for file in tsv_files:\n",
    "    print(file)    "
   ]
  },
  {
   "cell_type": "code",
   "execution_count": 33,
   "metadata": {},
   "outputs": [],
   "source": [
    "# create a dictionary with keys as filenames (cleaned)\n",
    "# values as their respective dataframes\n",
    "files_dict = {}\n",
    "# working with csv files\n",
    "for filename in csv_files:\n",
    "    # cleaning the file names\n",
    "    filename_cleaned = os.path.basename(filename).replace(\".csv\", \"\").replace(\".\", \"_\") \n",
    "    # read file to DataFrame\n",
    "    filename_df = pd.read_csv(filename, index_col=0)\n",
    "     # use cleanfilename as a key and the df as its value\n",
    "    files_dict[filename_cleaned] = filename_df\n",
    "# repeat for tsv files\n",
    "for filename in tsv_files:\n",
    "    filename_cleaned = os.path.basename(filename).replace(\".tsv\", \"\").replace(\".\", \"_\") \n",
    "    filename_df = pd.read_csv(filename, index_col=0, delimiter='\\t',encoding = 'unicode_escape')\n",
    "    files_dict[filename_cleaned] = filename_df "
   ]
  },
  {
   "cell_type": "code",
   "execution_count": 34,
   "metadata": {},
   "outputs": [
    {
     "name": "stdout",
     "output_type": "stream",
     "text": [
      "tmdb_movies\n",
      "imdb_title_crew\n",
      "tn_movie_budgets\n",
      "imdb_title_ratings\n",
      "imdb_name_basics\n",
      "imdb_title_principals\n",
      "imdb_title_akas\n",
      "bom_movie_gross\n",
      "imdb_title_basics\n",
      "rt_reviews\n",
      "rt_movie_info\n"
     ]
    }
   ],
   "source": [
    "# check what we have in files_dict  \n",
    "for key in files_dict.keys():\n",
    "    print(key)"
   ]
  },
  {
   "cell_type": "markdown",
   "metadata": {},
   "source": [
    "## Creat SQL database for storage all information"
   ]
  },
  {
   "cell_type": "code",
   "execution_count": 36,
   "metadata": {},
   "outputs": [
    {
     "name": "stdout",
     "output_type": "stream",
     "text": [
      "We removed old database with name movies_database.sqlite and create new one with the same name\n"
     ]
    }
   ],
   "source": [
    "# this will create a sqlite file in your directory\n",
    "# add name for sqlite file\n",
    "db = 'movies_database.sqlite'\n",
    "# check what we have\n",
    "if os.path.isfile(db):\n",
    "    os.remove(db)\n",
    "    conn = sqlite3.connect(db)\n",
    "    cur = conn.cursor()\n",
    "    print(\"We removed old database with name \"+str(db)+\" and create new one with the same name\")\n",
    "else: \n",
    "    conn = sqlite3.connect(db)\n",
    "    cur = conn.cursor()\n",
    "    print(\"We create a new database \"+str(db))"
   ]
  },
  {
   "cell_type": "code",
   "execution_count": 40,
   "metadata": {},
   "outputs": [
    {
     "name": "stdout",
     "output_type": "stream",
     "text": [
      "could not make table tmdb_movies\n",
      "Table 'tmdb_movies' already exists.\n",
      "could not make table imdb_title_crew\n",
      "Table 'imdb_title_crew' already exists.\n",
      "could not make table tn_movie_budgets\n",
      "Table 'tn_movie_budgets' already exists.\n",
      "could not make table imdb_title_ratings\n",
      "Table 'imdb_title_ratings' already exists.\n",
      "could not make table imdb_name_basics\n",
      "Table 'imdb_name_basics' already exists.\n",
      "could not make table imdb_title_principals\n",
      "Table 'imdb_title_principals' already exists.\n",
      "could not make table imdb_title_akas\n",
      "Table 'imdb_title_akas' already exists.\n",
      "could not make table bom_movie_gross\n",
      "Table 'bom_movie_gross' already exists.\n",
      "could not make table imdb_title_basics\n",
      "Table 'imdb_title_basics' already exists.\n",
      "could not make table rt_reviews\n",
      "Table 'rt_reviews' already exists.\n",
      "could not make table rt_movie_info\n",
      "Table 'rt_movie_info' already exists.\n"
     ]
    }
   ],
   "source": [
    "# Write a function that converts the dataframe to a sqlite table\n",
    "def create_sql_table_from_df(df, name, conn):\n",
    "    # Use try except\n",
    "    # it will try to make a table\n",
    "    # if a table exists the function will execute whatever you put in the except part\n",
    "    try:\n",
    "        df.to_sql(name, conn)\n",
    "        print(f\"Created table {name}\")\n",
    "    \n",
    "    # if the table exists it will tell you, and won't cause an error\n",
    "    except Exception as e:\n",
    "        print(f\"could not make table {name}\")\n",
    "        print(e)\n",
    "        \n",
    "for name, table in files_dict.items():\n",
    "    create_sql_table_from_df(table, name, conn)    \n",
    "    "
   ]
  },
  {
   "cell_type": "markdown",
   "metadata": {},
   "source": [
    "## We uploaded all the files what we have in the database for ease access and work. Now we can make research and analyze information from them."
   ]
  }
 ],
 "metadata": {
  "kernelspec": {
   "display_name": "Python 3",
   "language": "python",
   "name": "python3"
  },
  "language_info": {
   "codemirror_mode": {
    "name": "ipython",
    "version": 3
   },
   "file_extension": ".py",
   "mimetype": "text/x-python",
   "name": "python",
   "nbconvert_exporter": "python",
   "pygments_lexer": "ipython3",
   "version": "3.7.4"
  }
 },
 "nbformat": 4,
 "nbformat_minor": 2
}
